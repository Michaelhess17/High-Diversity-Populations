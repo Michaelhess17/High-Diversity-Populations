{
 "cells": [
  {
   "cell_type": "code",
   "execution_count": null,
   "id": "e6ae9771",
   "metadata": {},
   "outputs": [],
   "source": [
    "using DifferentialEquations, Plots, Statistics"
   ]
  },
  {
   "cell_type": "code",
   "execution_count": null,
   "id": "a05c011e",
   "metadata": {},
   "outputs": [],
   "source": []
  }
 ],
 "metadata": {
  "kernelspec": {
   "display_name": "Julia 1.9.2",
   "language": "julia",
   "name": "julia-1.9"
  },
  "language_info": {
   "file_extension": ".jl",
   "mimetype": "application/julia",
   "name": "julia",
   "version": "1.9.2"
  }
 },
 "nbformat": 4,
 "nbformat_minor": 5
}
